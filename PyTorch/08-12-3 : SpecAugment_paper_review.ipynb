{
 "cells": [
  {
   "cell_type": "markdown",
   "metadata": {},
   "source": [
    "# SpecAugment\n",
    "\n",
    "Spectrogram Augmentation Paper\n",
    "\n",
    "operates on the log mel spectrogram of the input audio, rather than the raw audio itself.\n",
    "\n",
    "it directly acts on the log mel spectrogram as if it were an image, and does not require any additional data.\n",
    "\n",
    "SpecAugment consists of three kinds of deformations of the log mel spectrogram. \"The first is time warping, a deformation of the time-series in the time direction.\" The other two augmentations, inspired by \"Cutout\", proposed in computer vision[T. DeVries and G. Taylor \"Improved Regularization of Convolutional Neural Networks with Cutout\" in arXiv, 2017], are time and frequency masking, where we mask a block of consecutive time stops or mel frequency channels.\n",
    "\n",
    "---------------------------------"
   ]
  },
  {
   "cell_type": "markdown",
   "metadata": {},
   "source": [
    "## Time Warping \n",
    "\n",
    "-------------\n",
    "\n",
    "Time Warping is applied via the function 'sparse_image_warp' of 'tensorflow'. Given a log mel spectrogram with $\\tau$ time steps. A random point along the time axis (W, t - W) is to be warped either to the left or right by a distance 'w' chosen from a uniform distribution from 0 to the time warp parameter W along that line.\n",
    "\n",
    "W : random point    \n",
    "t : length    \n",
    "w : moving distance   "
   ]
  },
  {
   "cell_type": "markdown",
   "metadata": {},
   "source": [
    "## Frequency Masking\n",
    "---------------------------------\n",
    "Frequency masking is applied so that f consecutive mel frequency channels (f0, f0 + f) are masked, where f is first chosen from a uniform distribution from 0 to the frequency mask parameter F, and f0 is chosen from (0, v - f). v is the number of mel frequency channels.\n",
    "\n",
    "f0 : random frequency point   \n",
    "f  : masking length    \n",
    "v  : end-point of frequency    \n",
    "F  : Parameter"
   ]
  },
  {
   "cell_type": "markdown",
   "metadata": {},
   "source": [
    "## Time Masking \n",
    "----------------------------------\n",
    "Time masking is applied so that t consecutive time steps (t0, t0 + t) are masked, where t is first chosen from a uniform distribution form 0 to the time mask parameter T, and t0 is chosen from (0, $\\tau$ - t).\n",
    "\n",
    "t0 : random time point   \n",
    "t : masking length   \n",
    "$\\tau$ : endpoint of time   \n",
    "T : Parameter"
   ]
  }
 ],
 "metadata": {
  "kernelspec": {
   "display_name": "Python 3",
   "language": "python",
   "name": "python3"
  },
  "language_info": {
   "codemirror_mode": {
    "name": "ipython",
    "version": 3
   },
   "file_extension": ".py",
   "mimetype": "text/x-python",
   "name": "python",
   "nbconvert_exporter": "python",
   "pygments_lexer": "ipython3",
   "version": "3.7.7"
  }
 },
 "nbformat": 4,
 "nbformat_minor": 4
}
