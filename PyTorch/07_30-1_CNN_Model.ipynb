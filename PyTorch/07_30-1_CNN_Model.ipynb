{
 "cells": [
  {
   "cell_type": "markdown",
   "metadata": {},
   "source": [
    "#  Spectrogram CNN Model    \n",
    "### Accuracy - 50%"
   ]
  },
  {
   "cell_type": "code",
   "execution_count": null,
   "metadata": {},
   "outputs": [],
   "source": [
    "import numpy as np\n",
    "import torch\n",
    "import torch.nn as nn\n",
    "\n",
    "from torch.utils.data import Dataset, DataLoader"
   ]
  },
  {
   "cell_type": "markdown",
   "metadata": {},
   "source": [
    "### Model Parameters "
   ]
  },
  {
   "cell_type": "code",
   "execution_count": null,
   "metadata": {},
   "outputs": [],
   "source": [
    "learning_rate = 3e-4\n",
    "training_epochs = 100\n",
    "batch_size = 32\n",
    "device = 'cpu'"
   ]
  },
  {
   "cell_type": "markdown",
   "metadata": {},
   "source": [
    "### 데이터 로드"
   ]
  },
  {
   "cell_type": "code",
   "execution_count": null,
   "metadata": {},
   "outputs": [],
   "source": [
    "print('Loading Data...')\n",
    "file = np.load('./dataset.npz')\n",
    "print('Loading Finished')"
   ]
  },
  {
   "cell_type": "markdown",
   "metadata": {},
   "source": [
    "### 데이터 할당"
   ]
  },
  {
   "cell_type": "code",
   "execution_count": null,
   "metadata": {},
   "outputs": [],
   "source": [
    "print('Allocate Data ...')\n",
    "S_left = file['S_left']\n",
    "S_right = file['S_right']\n",
    "S_left_phase = file['S_left_phase']\n",
    "S_right_phase = file['S_right_phase']\n",
    "\n",
    "phi = file['phi'][0:1000]"
   ]
  },
  {
   "cell_type": "markdown",
   "metadata": {},
   "source": [
    "### 데이터 전처리"
   ]
  },
  {
   "cell_type": "code",
   "execution_count": null,
   "metadata": {},
   "outputs": [],
   "source": [
    "print('Transforming ...')\n",
    "S_left = np.transpose(S_left, (2, 0, 1)).reshape(1000, 1, 257, 382)\n",
    "S_right = np.transpose(S_right, (2, 0, 1)).reshape(1000, 1, 257, 382)\n",
    "S_left_phase = np.transpose(S_left_phase, (2, 0, 1)).reshape(1000, 1, 257, 382)\n",
    "S_right_phase =np.transpose(S_right_phase, (2, 0, 1)).reshape(1000, 1, 257, 382)\n",
    "\n",
    "\n",
    "for i in range(0, 1000):\n",
    "    S_left[i] = (S_left[i] - np.mean(S_left[i])) / np.std(S_left[i])\n",
    "    S_right[i] = (S_right[i] - np.mean(S_right[i])) / np.std(S_right[i])\n",
    "    S_left_phase[i] = (S_left_phase[i] - np.mean(S_left_phase[i])) / np.std(S_left_phase[i])\n",
    "    S_right_phase[i] = (S_right_phase[i] - np.mean(S_right_phase[i])) / np.std(S_right_phase[i])\n",
    "\n",
    "    S_left[i] = (S_left[i] - np.min(S_left[i])) / (np.max(S_left[i]) - np.min(S_left[i]))\n",
    "    S_right[i] = (S_right[i] - np.min(S_right[i])) / (np.max(S_right[i]) - np.min(S_right[i]))\n",
    "    S_left_phase[i] = (S_left_phase[i] - np.min(S_left_phase[i])) / (np.max(S_left_phase[i]) - np.min(S_left_phase[i]))\n",
    "    S_right_phase[i] = (S_right_phase[i] - np.min(S_right_phase[i])) / (np.max(S_right_phase[i]) - np.min(S_right_phase[i]))\n",
    "\n",
    "S_left = np.log(np.add(S_left, 1))\n",
    "S_right = np.log(np.add(S_right, 1))\n",
    "S_left_phase = np.log(np.add(S_left_phase, 1))\n",
    "S_right_phase = np.log(np.add(S_right_phase, 1))\n",
    "\n",
    "phi = np.add(phi, 20)\n",
    "phi[phi == 19] = 0\n",
    "phi = np.divide(phi, 20)\n",
    "\n",
    "phi = phi.astype(np.int16).reshape(1000,)\n",
    "print('Transforming Finished')"
   ]
  },
  {
   "cell_type": "markdown",
   "metadata": {},
   "source": [
    "### 데이터 병합"
   ]
  },
  {
   "cell_type": "code",
   "execution_count": null,
   "metadata": {},
   "outputs": [],
   "source": [
    "print('Merging Data ...')\n",
    "input_data = np.concatenate((S_left, S_right, S_left_phase, S_right_phase), axis=1)\n",
    "print('Merging Finished!')"
   ]
  },
  {
   "cell_type": "markdown",
   "metadata": {},
   "source": [
    "### 훈련셋과 테스트셋으로 분할"
   ]
  },
  {
   "cell_type": "code",
   "execution_count": null,
   "metadata": {},
   "outputs": [],
   "source": [
    "# Divide datasets into training sets and evaluation sets.\n",
    "def train_test_split(X, y, test_size=0.2, shuffle=True, random_state=None):\n",
    "    test_num = int(X.shape[0] * test_size)\n",
    "    train_num = X.shape[0] - test_num\n",
    "\n",
    "    if shuffle:\n",
    "        np.random.seed(random_state)\n",
    "        shuffle = np.random.permutation(X.shape[0])\n",
    "        X = X[shuffle, :]\n",
    "        y = y[shuffle, ]\n",
    "        X_train = X[:train_num]\n",
    "        y_train = y[:train_num]\n",
    "        X_test = X[train_num:]\n",
    "        y_test = y[train_num:]\n",
    "    else:\n",
    "        X_train = X[:train_num]\n",
    "        y_train = y[:train_num]\n",
    "        X_test = X[train_num:]\n",
    "        y_test = y[train_num:]\n",
    "\n",
    "    return X_train, X_test, y_train, y_test\n",
    "print('Dividing datasets ...')\n",
    "X_train, X_test, y_train, y_test = train_test_split(input_data, phi, test_size=0.2, shuffle=True)\n",
    "non1, X_val, non2, y_val = train_test_split(X_train, y_train, test_size=0.25, shuffle=True)"
   ]
  },
  {
   "cell_type": "markdown",
   "metadata": {},
   "source": [
    "### PyTorch 데이터셋 구성"
   ]
  },
  {
   "cell_type": "code",
   "execution_count": null,
   "metadata": {},
   "outputs": [],
   "source": [
    "class Custom_Dataset(Dataset):\n",
    "\n",
    "    def __init__(self, X, Y):\n",
    "        self.X = torch.from_numpy(X).float()\n",
    "        self.Y = torch.from_numpy(Y).long()\n",
    "\n",
    "    def __len__(self):\n",
    "        return len(self.X)\n",
    "\n",
    "    def __getitem__(self, index):\n",
    "        X = self.X[index]\n",
    "        Y = self.Y[index]\n",
    "        return X, Y\n",
    "\n",
    "train_set = Custom_Dataset(X=X_train, Y=y_train)\n",
    "test_set = Custom_Dataset(X=X_test, Y=y_test)\n",
    "valid_set = Custom_Dataset(X=X_val, Y=y_val)"
   ]
  },
  {
   "cell_type": "markdown",
   "metadata": {},
   "source": [
    "### 데이터 로더"
   ]
  },
  {
   "cell_type": "code",
   "execution_count": null,
   "metadata": {},
   "outputs": [],
   "source": [
    "train_loader = DataLoader(dataset=train_set,\n",
    "                          batch_size=batch_size,\n",
    "                          shuffle=True,\n",
    "                          drop_last=True)\n",
    "test_loader = DataLoader(dataset=test_set,\n",
    "                         batch_size=batch_size,\n",
    "                         shuffle=True,\n",
    "                         drop_last=False)\n",
    "valid_loader = DataLoader(dataset=valid_set,\n",
    "                         batch_size=batch_size,\n",
    "                         shuffle=True,\n",
    "                         drop_last=False)"
   ]
  },
  {
   "cell_type": "markdown",
   "metadata": {},
   "source": [
    "####  메모리 부족으로 인한 문제 방지를 위해 변수 삭제"
   ]
  },
  {
   "cell_type": "code",
   "execution_count": null,
   "metadata": {},
   "outputs": [],
   "source": [
    "del file, S_left, S_right, S_left_phase, S_right_phase, input_data, phi, non1, non2"
   ]
  },
  {
   "cell_type": "markdown",
   "metadata": {},
   "source": [
    "### CNN 모델 구성"
   ]
  },
  {
   "cell_type": "code",
   "execution_count": null,
   "metadata": {},
   "outputs": [],
   "source": [
    "class CNN(nn.Module):\n",
    "    def __init__(self):\n",
    "        super(CNN,self).__init__()\n",
    "        self.Features = nn.Sequential(\n",
    "            nn.Conv2d(in_channels=4, out_channels=8, kernel_size=3, stride=1, padding=1),\n",
    "            nn.ReLU(),\n",
    "            nn.MaxPool2d(kernel_size=3),\n",
    "            nn.Conv2d(in_channels=8, out_channels=16, kernel_size=3, stride=1, padding=1),\n",
    "            nn.ReLU(),\n",
    "            nn.MaxPool2d(kernel_size=3),\n",
    "            nn.Conv2d(in_channels=16, out_channels=32, kernel_size=3, stride=1, padding=1),\n",
    "            nn.ReLU(),\n",
    "            nn.MaxPool2d(kernel_size=3),\n",
    "            nn.Conv2d(in_channels=32, out_channels=64, kernel_size=3, stride=1, padding=1),\n",
    "            nn.ReLU(),\n",
    "            nn.MaxPool2d(kernel_size=3)\n",
    "        )\n",
    "        self.FC1 = nn.Linear(in_features=768, out_features=768, bias=True)\n",
    "        self.FC2 = nn.Linear(in_features=768, out_features=11, bias=True)\n",
    "        torch.nn.init.kaiming_normal_(self.FC1.weight)\n",
    "        torch.nn.init.kaiming_normal_(self.FC2.weight)\n",
    "        self.Classifier = nn.Sequential(\n",
    "            self.FC1,\n",
    "            nn.Dropout(p=0.5),\n",
    "            self.FC2\n",
    "        )\n",
    "    def forward(self, inputs):\n",
    "        output = self.Features(inputs)\n",
    "        output = output.view(output.size(0), -1)\n",
    "        output = self.Classifier(output)\n",
    "\n",
    "        return output\n",
    "\n",
    "model = CNN().to(device)"
   ]
  },
  {
   "cell_type": "markdown",
   "metadata": {},
   "source": [
    "### Loss function 구성"
   ]
  },
  {
   "cell_type": "code",
   "execution_count": null,
   "metadata": {},
   "outputs": [],
   "source": [
    "criterion = nn.CrossEntropyLoss().to(device)\n",
    "optimizer = torch.optim.Adam(model.parameters(), lr=learning_rate)"
   ]
  },
  {
   "cell_type": "markdown",
   "metadata": {},
   "source": [
    "### 학습"
   ]
  },
  {
   "cell_type": "code",
   "execution_count": null,
   "metadata": {},
   "outputs": [],
   "source": [
    "total_batch = len(train_loader)\n",
    "\n",
    "print('Learning Started')\n",
    "for epoch in range(training_epochs):\n",
    "    avg_cost = 0\n",
    "\n",
    "    for X, Y in train_loader:\n",
    "        X = X.to(device)\n",
    "        Y = Y.to(device)\n",
    "\n",
    "        optimizer.zero_grad()\n",
    "        hypothesis = model(X)\n",
    "        cost = criterion(hypothesis, Y)\n",
    "        cost.backward()\n",
    "        optimizer.step()\n",
    "\n",
    "        avg_cost += cost / total_batch\n",
    "\n",
    "        with torch.no_grad():\n",
    "            X_val = valid_set.X.view(200, 4, 257, 382).float().to(device)\n",
    "            Y_val = valid_set.Y.to(device)\n",
    "\n",
    "            X_test = test_set.X.view(200, 4, 257, 382).float().to(device)\n",
    "            Y_test = test_set.Y.to(device)\n",
    "\n",
    "            prediction = model(X_val)\n",
    "            correct_prediction = torch.argmax(prediction, 1) == Y_val\n",
    "            accuracy = correct_prediction.float().mean()\n",
    "\n",
    "            test_prediction = model(X_test)\n",
    "            test_correct_prediction = torch.argmax(test_prediction, 1) == Y_test\n",
    "            test_accuracy = test_correct_prediction.float().mean()\n",
    "\n",
    "\n",
    "    print('[Epoch : {:>4}] \\n Cost = {:>.9} \\t Val_Accuracy = {:>.4} \\t Test Accuracy = {:>.4}'.format(epoch + 1, avg_cost, accuracy.item(), test_accuracy.item()))\n",
    "print('Learning Finished')"
   ]
  }
 ],
 "metadata": {
  "kernelspec": {
   "display_name": "Python 3",
   "language": "python",
   "name": "python3"
  },
  "language_info": {
   "codemirror_mode": {
    "name": "ipython",
    "version": 3
   },
   "file_extension": ".py",
   "mimetype": "text/x-python",
   "name": "python",
   "nbconvert_exporter": "python",
   "pygments_lexer": "ipython3",
   "version": "3.7.3"
  }
 },
 "nbformat": 4,
 "nbformat_minor": 4
}
