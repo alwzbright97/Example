{
 "cells": [
  {
   "cell_type": "markdown",
   "metadata": {},
   "source": [
    "# Resize 2"
   ]
  },
  {
   "cell_type": "code",
   "execution_count": 1,
   "metadata": {},
   "outputs": [],
   "source": [
    "from scipy import io\n",
    "import numpy as np"
   ]
  },
  {
   "cell_type": "markdown",
   "metadata": {},
   "source": [
    "### Load Data"
   ]
  },
  {
   "cell_type": "code",
   "execution_count": 2,
   "metadata": {},
   "outputs": [],
   "source": [
    "mat_file = io.loadmat('./data/dataset.mat')\n",
    "angle_file = io.loadmat('./data/angle.mat')"
   ]
  },
  {
   "cell_type": "markdown",
   "metadata": {},
   "source": [
    "### Resize X, data"
   ]
  },
  {
   "cell_type": "code",
   "execution_count": 3,
   "metadata": {},
   "outputs": [],
   "source": [
    "(S_left, S_left_phase, S_right, S_right_phase) = (mat_file['S_left'],mat_file['S_left_phase'],mat_file['S_right'],mat_file['S_right_phase'])\n",
    "\n",
    "S_left = np.transpose(S_left, (2, 0, 1))\n",
    "S_right = np.transpose(S_right, (2, 0, 1))\n",
    "S_left_phase = np.transpose(S_left_phase, (2, 0, 1))\n",
    "S_right_phase = np.transpose(S_right_phase, (2, 0, 1))\n",
    "\n",
    "S_left = np.reshape(S_left, (1000, 1, 257, 382))\n",
    "S_right = np.reshape(S_right, (1000, 1, 257, 382))\n",
    "S_left_phase = np.reshape(S_left_phase, (1000, 1, 257, 382))\n",
    "S_right_phase = np.reshape(S_right_phase, (1000, 1, 257, 382))\n",
    "\n",
    "data = np.concatenate((S_left, S_left_phase, S_right, S_right_phase), axis=1)"
   ]
  },
  {
   "cell_type": "markdown",
   "metadata": {},
   "source": [
    "### Resize Y, targets"
   ]
  },
  {
   "cell_type": "code",
   "execution_count": 4,
   "metadata": {},
   "outputs": [],
   "source": [
    "targets = angle_file['phi'][1:1001]\n",
    "targets = np.reshape(targets, (1000,))"
   ]
  },
  {
   "cell_type": "code",
   "execution_count": 5,
   "metadata": {},
   "outputs": [],
   "source": [
    "targets = targets + 20\n",
    "targets[targets == 19] = 0\n",
    "targets = targets / 20\n",
    "targets = targets.astype(np.long)"
   ]
  },
  {
   "cell_type": "code",
   "execution_count": 6,
   "metadata": {
    "scrolled": true
   },
   "outputs": [],
   "source": [
    "np.savez('./data/np_dataset', data=data, targets=targets)"
   ]
  },
  {
   "cell_type": "markdown",
   "metadata": {},
   "source": [
    "### Split Data & Save"
   ]
  },
  {
   "cell_type": "code",
   "execution_count": 7,
   "metadata": {},
   "outputs": [],
   "source": [
    "from sklearn.model_selection import train_test_split"
   ]
  },
  {
   "cell_type": "code",
   "execution_count": 8,
   "metadata": {},
   "outputs": [],
   "source": [
    "X_train, X_test, y_train, y_test = train_test_split(data, targets, test_size=0.2, shuffle=True)"
   ]
  },
  {
   "cell_type": "code",
   "execution_count": 9,
   "metadata": {},
   "outputs": [],
   "source": [
    "np.savez('./data/np_dataset_train', data=X_train, targets=y_train)\n",
    "np.savez('./data/np_dataset_test', data=X_test, targets=y_test)"
   ]
  },
  {
   "cell_type": "code",
   "execution_count": 10,
   "metadata": {},
   "outputs": [],
   "source": [
    "np.savez('./data/np_dataset_split', data=X_train, targets=y_train, test_data=X_test, test_targets=y_test)"
   ]
  }
 ],
 "metadata": {
  "kernelspec": {
   "display_name": "Python 3",
   "language": "python",
   "name": "python3"
  },
  "language_info": {
   "codemirror_mode": {
    "name": "ipython",
    "version": 3
   },
   "file_extension": ".py",
   "mimetype": "text/x-python",
   "name": "python",
   "nbconvert_exporter": "python",
   "pygments_lexer": "ipython3",
   "version": "3.7.3"
  }
 },
 "nbformat": 4,
 "nbformat_minor": 4
}
