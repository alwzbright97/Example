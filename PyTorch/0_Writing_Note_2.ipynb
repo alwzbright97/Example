{
 "cells": [
  {
   "cell_type": "markdown",
   "metadata": {},
   "source": [
    "#### Sparse Image Warp   \n",
    "Image warping using correspondences between sparse control points.\n",
    "\n",
    "Apply a non-linear warp to the image, where the warp is specified by the source and destination locations of a (potentially small) number of control points. First, we use a polyharmonic spline (```tf.contrib.image.interpolate_spline```) to interpolate the displacements between the corresponding control points to a dense flow field. Then, we warp the image using this dense flow field (```tf.contrib.image.dense_image_warp```).\n",
    "\n",
    "Let t index our control points. For regularization_weight=0, we have: warped_image[b, dest_control-point_location[b, t, 0], dest_control_point_location[b, t, 1], :] = image[b, source_control_point_location[b, t, 0], source_control_point_location[b, t, 1], :]\n",
    "\n",
    "For regularization_weight > 0, this condition is met approximately, since regularized interpolation trades off smoothness of the interpolant vs. reconstruction of the interpolant at the control points. See ```tf.contrib.image.interpolate_spline``` for further documentation of the interpolation_order and regularization_weight arguments.\n",
    "\n",
    "| Args||   \n",
    "|:------------------------------ |:--------------------------------------------|\n",
    "|image                           |[batch, height, width, channels] float Tensor|\n",
    "|source_control_point_locations  |[batch, num_control_points, 2]   float Tensor|\n",
    "|dest_control_point_locations    |[batch, num_control_points, 2]   float Tensor|\n",
    "|interpolation_order             |polynomial order used by the spline interpolation|\n",
    "|regularization_weight           |weight on smoothness regularizer in interpolation|\n",
    "\n",
    "| Returns||   \n",
    "|:------------------------------ |:--------------------------------------------|\n",
    "|warped_image                    |[batch, height, width, channels] float Tensor with same type as input image.|\n",
    "|flow_field                      |[batch, height, width, 2] float Tensor containing the dense flow field produced by the interpolation.|\n"
   ]
  },
  {
   "cell_type": "markdown",
   "metadata": {},
   "source": [
    "#### Import Library"
   ]
  },
  {
   "cell_type": "code",
   "execution_count": 1,
   "metadata": {},
   "outputs": [],
   "source": [
    "import numpy as np\n",
    "import scipy as sp\n",
    "import random"
   ]
  },
  {
   "cell_type": "markdown",
   "metadata": {},
   "source": [
    "#### Input Data shape"
   ]
  },
  {
   "cell_type": "markdown",
   "metadata": {},
   "source": [
    "image.shape = [```batch_size```, ```image_height```, ```image_width```, ```channels```]"
   ]
  },
  {
   "cell_type": "markdown",
   "metadata": {},
   "source": [
    "#### My Data"
   ]
  },
  {
   "cell_type": "code",
   "execution_count": 2,
   "metadata": {},
   "outputs": [
    {
     "name": "stdout",
     "output_type": "stream",
     "text": [
      "input image shape : (800, 257, 382, 2)\n"
     ]
    }
   ],
   "source": [
    "image = np.ones((800, 2, 257, 382))\n",
    "image = np.transpose(image, (0, 2, 3, 1))\n",
    "print(\"input image shape :\", image.shape)"
   ]
  },
  {
   "cell_type": "code",
   "execution_count": 3,
   "metadata": {
    "scrolled": true
   },
   "outputs": [
    {
     "name": "stdout",
     "output_type": "stream",
     "text": [
      "batch size   : 800\n",
      "image_height : 257\n",
      "image_width  : 382\n"
     ]
    }
   ],
   "source": [
    "batch_size, image_height, image_width, _ = list(image.shape)\n",
    "print(\"batch size   :\", batch_size)\n",
    "print(\"image_height :\", image_height)\n",
    "print(\"image_width  :\", image_width)"
   ]
  },
  {
   "cell_type": "markdown",
   "metadata": {},
   "source": [
    "#### Define Length Parameter"
   ]
  },
  {
   "cell_type": "code",
   "execution_count": 4,
   "metadata": {},
   "outputs": [
    {
     "name": "stdout",
     "output_type": "stream",
     "text": [
      "num_rows : 257\n",
      "spec_len : 382\n"
     ]
    }
   ],
   "source": [
    "spec = image\n",
    "num_rows = spec.shape[1]\n",
    "spec_len = spec.shape[2]\n",
    "print(\"num_rows :\", num_rows)\n",
    "print(\"spec_len :\", spec_len)"
   ]
  },
  {
   "cell_type": "markdown",
   "metadata": {},
   "source": [
    "#### Horizontal Line"
   ]
  },
  {
   "cell_type": "code",
   "execution_count": 5,
   "metadata": {},
   "outputs": [
    {
     "name": "stdout",
     "output_type": "stream",
     "text": [
      "y : 128\n",
      "horizontal_line_at_ctr's shape : (382, 2)\n"
     ]
    }
   ],
   "source": [
    "y = num_rows // 2\n",
    "horizontal_line_at_ctr = spec[0][y]\n",
    "\n",
    "print(\"y :\", y)\n",
    "print(\"horizontal_line_at_ctr's shape :\", horizontal_line_at_ctr.shape)"
   ]
  },
  {
   "cell_type": "markdown",
   "metadata": {},
   "source": [
    "&nbsp;```y: 128```&nbsp; : &nbsp;middle of height   \n",
    "```(382, 2)``` : ```(spec_len, channels)```"
   ]
  },
  {
   "cell_type": "markdown",
   "metadata": {},
   "source": [
    "#### Get Random Points & Distance"
   ]
  },
  {
   "cell_type": "code",
   "execution_count": 6,
   "metadata": {
    "scrolled": true
   },
   "outputs": [
    {
     "name": "stdout",
     "output_type": "stream",
     "text": [
      "random range :  135\n",
      "[1. 1.]\n"
     ]
    }
   ],
   "source": [
    "W = 5\n",
    "\n",
    "point_a = random.randrange(W, spec_len-W)\n",
    "point_to_warp = horizontal_line_at_ctr[point_a]\n",
    "\n",
    "print(\"random range : \", point_a)\n",
    "print(point_to_warp)"
   ]
  },
  {
   "cell_type": "code",
   "execution_count": 7,
   "metadata": {},
   "outputs": [
    {
     "name": "stdout",
     "output_type": "stream",
     "text": [
      "dist_to_warp : -5\n"
     ]
    }
   ],
   "source": [
    "dist_to_warp = random.randrange(-W, W)\n",
    "print(\"dist_to_warp :\", dist_to_warp)"
   ]
  },
  {
   "cell_type": "markdown",
   "metadata": {},
   "source": [
    "```dist_to_warp``` : distance to warp"
   ]
  },
  {
   "cell_type": "markdown",
   "metadata": {},
   "source": [
    "#### Define Input Parameter 1 at Sparse Image Warp"
   ]
  },
  {
   "cell_type": "code",
   "execution_count": 8,
   "metadata": {
    "scrolled": true
   },
   "outputs": [
    {
     "name": "stdout",
     "output_type": "stream",
     "text": [
      "[[[128 array([1., 1.])]]]\n",
      "[[[128 array([-4., -4.])]]]\n"
     ]
    }
   ],
   "source": [
    "src_pts = np.array([[[y, point_to_warp]]])\n",
    "dest_pts = np.array([[[y, point_to_warp + dist_to_warp]]])\n",
    "\n",
    "# src_pts = torch.tensor([[[y, point_to_warp]]])\n",
    "# dest_pts = torch.tensor([[[y, point_to_warp + dist_to_warp]]])\n",
    "\n",
    "print(src_pts)\n",
    "print(dest_pts)"
   ]
  },
  {
   "cell_type": "code",
   "execution_count": 9,
   "metadata": {},
   "outputs": [],
   "source": [
    "source_control_point_locations = src_pts\n",
    "dest_control_point_locations = dest_pts"
   ]
  },
  {
   "cell_type": "markdown",
   "metadata": {},
   "source": [
    "```source_control_point_locations``` = ```src_pts```   \n",
    "```dest_control_point_locations``` = ```dest_pts```"
   ]
  },
  {
   "cell_type": "markdown",
   "metadata": {},
   "source": [
    "#### Control Points Flows"
   ]
  },
  {
   "cell_type": "code",
   "execution_count": 10,
   "metadata": {
    "scrolled": false
   },
   "outputs": [
    {
     "name": "stdout",
     "output_type": "stream",
     "text": [
      "control_points_flows : [[[0 array([-5., -5.])]]]\n"
     ]
    }
   ],
   "source": [
    "control_point_flows = (dest_control_point_locations - source_control_point_locations)\n",
    "print(\"control_point_flows :\", control_point_flows)"
   ]
  },
  {
   "cell_type": "markdown",
   "metadata": {},
   "source": [
    "#### Get boundary Location & Condition"
   ]
  },
  {
   "cell_type": "markdown",
   "metadata": {},
   "source": [
    "##### Sparse image warp --> Add zero flow controls at boundary --> get boundary locations\n",
    "\n",
    "```num_points_per_edge``` =  ```boundary_points_per_edge```\n",
    "```control_point_locations``` = ```dest_control_point_locations```"
   ]
  },
  {
   "cell_type": "code",
   "execution_count": 21,
   "metadata": {},
   "outputs": [],
   "source": [
    "boundary_points_per_edge = 0\n",
    "control_point_locations = dest_control_point_locations"
   ]
  },
  {
   "cell_type": "code",
   "execution_count": 12,
   "metadata": {},
   "outputs": [],
   "source": [
    "def _get_boundary_locations(image_height, image_width, boundary_points_per_edge):\n",
    "    y_range = np.linspace(0, image_height - 1, boundary_points_per_edge + 2)\n",
    "    x_range = np.linspace(0, image_width - 1, boundary_points_per_edge + 2)\n",
    "    ys, xs = np.meshgrid(y_range, x_range, indexing='ij')\n",
    "    \n",
    "    is_boundary = np.logical_or(\n",
    "        np.logical_or(xs == 0, xs == image_width - 1),\n",
    "        np.logical_or(ys == 0, ys == image_height - 1)\n",
    "    )\n",
    "    return np.stack([ys[is_boundary], xs[is_boundary]], axis=-1)"
   ]
  },
  {
   "cell_type": "code",
   "execution_count": 13,
   "metadata": {
    "scrolled": true
   },
   "outputs": [
    {
     "name": "stdout",
     "output_type": "stream",
     "text": [
      "y_range : [  0. 256.]\n",
      "x_range : [  0. 381.]\n",
      "ys :\n",
      " [[  0.   0.]\n",
      " [256. 256.]]\n",
      "xs :\n",
      " [[  0. 381.]\n",
      " [  0. 381.]]\n",
      "boundary_point_locations : \n",
      " [[  0.   0.]\n",
      " [  0. 381.]\n",
      " [256.   0.]\n",
      " [256. 381.]]\n"
     ]
    }
   ],
   "source": [
    "y_range = np.linspace(0, image_height - 1, boundary_points_per_edge + 2)\n",
    "x_range = np.linspace(0, image_width - 1, boundary_points_per_edge + 2)\n",
    "ys, xs = np.meshgrid(y_range, x_range, indexing='ij')\n",
    "\n",
    "is_boundary = np.logical_or(\n",
    "    np.logical_or(xs == 0, xs == image_width - 1),\n",
    "    np.logical_or(ys == 0, ys == image_height - 1)\n",
    ")\n",
    "\n",
    "boundary_point_locations = np.stack([ys[is_boundary], xs[is_boundary]], axis=-1)\n",
    "\n",
    "print(\"y_range :\", y_range)\n",
    "print(\"x_range :\", x_range)\n",
    "print(\"ys :\\n\", ys)\n",
    "print(\"xs :\\n\", xs)\n",
    "print(\"boundary_point_locations : \\n\", boundary_point_locations)"
   ]
  },
  {
   "cell_type": "markdown",
   "metadata": {},
   "source": [
    "#### Boundary Flows to Zero"
   ]
  },
  {
   "cell_type": "code",
   "execution_count": 14,
   "metadata": {
    "scrolled": true
   },
   "outputs": [
    {
     "name": "stdout",
     "output_type": "stream",
     "text": [
      "boundary_point_flows : [[0. 0.]\n",
      " [0. 0.]\n",
      " [0. 0.]\n",
      " [0. 0.]]\n"
     ]
    }
   ],
   "source": [
    "boundary_point_flows = np.zeros([boundary_point_locations.shape[0], 2])\n",
    "print(\"boundary_point_flows :\", boundary_point_flows)"
   ]
  },
  {
   "cell_type": "markdown",
   "metadata": {},
   "source": [
    "```boundary_point_locations.shape[0]``` = number of boundary points"
   ]
  },
  {
   "cell_type": "code",
   "execution_count": 15,
   "metadata": {},
   "outputs": [
    {
     "name": "stdout",
     "output_type": "stream",
     "text": [
      "object\n"
     ]
    }
   ],
   "source": [
    "type_to_use = dest_control_point_locations.dtype\n",
    "print(type_to_use)"
   ]
  },
  {
   "cell_type": "code",
   "execution_count": 16,
   "metadata": {},
   "outputs": [
    {
     "data": {
      "text/plain": [
       "array([[[128, array([-4., -4.])]]], dtype=object)"
      ]
     },
     "execution_count": 16,
     "metadata": {},
     "output_type": "execute_result"
    }
   ],
   "source": [
    "dest_control_point_locations"
   ]
  },
  {
   "cell_type": "markdown",
   "metadata": {},
   "source": [
    "#### Expand Boundary Points To minibatch"
   ]
  },
  {
   "cell_type": "code",
   "execution_count": 19,
   "metadata": {},
   "outputs": [
    {
     "name": "stdout",
     "output_type": "stream",
     "text": [
      "boundary_point_locations.shape :  (800, 4, 2)\n",
      "boundary_point_flows.shape :  (800, 4, 2)\n"
     ]
    }
   ],
   "source": [
    "def _expand_to_minibatch(np_array, batch_size):\n",
    "    tiles = [batch_size] + [1] * np_array.ndim\n",
    "    return np.tile(np.expand_dims(np_array, 0), tiles)\n",
    "\n",
    "boundary_point_locations = _expand_to_minibatch(boundary_point_locations, batch_size)\n",
    "boundary_point_flows = _expand_to_minibatch(boundary_point_flows, batch_size)\n",
    "print(\"boundary_point_locations.shape : \", boundary_point_locations.shape)\n",
    "print(\"boundary_point_flows.shape : \", boundary_point_flows.shape)"
   ]
  },
  {
   "cell_type": "markdown",
   "metadata": {},
   "source": [
    "#### Merge Control Point Locations"
   ]
  },
  {
   "cell_type": "code",
   "execution_count": null,
   "metadata": {},
   "outputs": [],
   "source": [
    "merged_control_point_location = np.concatenate([control_point_locations])"
   ]
  }
 ],
 "metadata": {
  "kernelspec": {
   "display_name": "Python 3",
   "language": "python",
   "name": "python3"
  },
  "language_info": {
   "codemirror_mode": {
    "name": "ipython",
    "version": 3
   },
   "file_extension": ".py",
   "mimetype": "text/x-python",
   "name": "python",
   "nbconvert_exporter": "python",
   "pygments_lexer": "ipython3",
   "version": "3.7.7"
  }
 },
 "nbformat": 4,
 "nbformat_minor": 4
}
