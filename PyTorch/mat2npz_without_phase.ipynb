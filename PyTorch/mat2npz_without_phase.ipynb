{
 "cells": [
  {
   "cell_type": "code",
   "execution_count": 1,
   "metadata": {},
   "outputs": [],
   "source": [
    "import numpy as np\n",
    "from scipy import io"
   ]
  },
  {
   "cell_type": "code",
   "execution_count": 2,
   "metadata": {},
   "outputs": [],
   "source": [
    "PATH = '../compu/data/'\n",
    "filename = 'dataset_1.mat'\n",
    "mat_file = io.loadmat(PATH + filename)\n",
    "filename = 'angle.mat'\n",
    "angle_file = io.loadmat(PATH + filename)"
   ]
  },
  {
   "cell_type": "code",
   "execution_count": 3,
   "metadata": {},
   "outputs": [],
   "source": [
    "S_left = mat_file['S_left']\n",
    "S_right = mat_file['S_right']\n",
    "# S_left_phase = mat_file['S_left_phase']\n",
    "# S_right_phase = mat_file['S_right_phase']\n",
    "\n",
    "phi = angle_file['phi']\n",
    "phi = phi[:1000]"
   ]
  },
  {
   "cell_type": "code",
   "execution_count": 4,
   "metadata": {},
   "outputs": [],
   "source": [
    "# np.savez_compressed('dataset', \n",
    "#                     S_left=S_left,\n",
    "#                     S_right=S_right, \n",
    "#                     S_left_phase=S_left_phase, \n",
    "#                     S_right_phase=S_right_phase, \n",
    "#                     phi=phi)"
   ]
  },
  {
   "cell_type": "code",
   "execution_count": 5,
   "metadata": {},
   "outputs": [],
   "source": [
    "S_left        = np.transpose(S_left,        (2, 0, 1))\n",
    "# S_left_phase  = np.transpose(S_left_phase,  (2, 0, 1))\n",
    "S_right       = np.transpose(S_right,       (2, 0, 1))\n",
    "# S_right_phase = np.transpose(S_right_phase, (2, 0, 1))"
   ]
  },
  {
   "cell_type": "code",
   "execution_count": 6,
   "metadata": {},
   "outputs": [],
   "source": [
    "S_left        = np.reshape(S_left,        (1000, 1, 257, 382))\n",
    "# S_left_phase  = np.reshape(S_left_phase,  (1000, 1, 257, 382))\n",
    "S_right       = np.reshape(S_right,       (1000, 1, 257, 382))\n",
    "# S_right_phase = np.reshape(S_right_phase, (1000, 1, 257, 382))"
   ]
  },
  {
   "cell_type": "code",
   "execution_count": 7,
   "metadata": {},
   "outputs": [],
   "source": [
    "# Log Scale\n",
    "S_left  = np.log10(S_left  + 1)\n",
    "S_right = np.log10(S_right + 1)"
   ]
  },
  {
   "cell_type": "code",
   "execution_count": 8,
   "metadata": {},
   "outputs": [],
   "source": [
    "magnitude = np.concatenate((S_left, S_right), axis=1)\n",
    "# phase = np.concatenate((S_left_phase, S_right_phase), axis=1)"
   ]
  },
  {
   "cell_type": "code",
   "execution_count": 9,
   "metadata": {},
   "outputs": [],
   "source": [
    "for i in range(len(magnitude)):\n",
    "    # Z-score Normalization\n",
    "    magnitude[i] = np.divide(np.subtract(magnitude[i], magnitude[i].mean()),\n",
    "                             magnitude[i].std())\n",
    "#     phase[i]     = np.divide(np.subtract(phase[i]    , phase[i].mean()    ),\n",
    "#                              phase[i].std())\n",
    "    \n",
    "    # Min-Max Normalization\n",
    "    magnitude[i] = np.divide(np.subtract(magnitude[i], magnitude[i].min()),\n",
    "                             np.subtract(magnitude[i].max(), magnitude[i].min() ))\n",
    "#     phase[i]     = np.divide(np.subtract(phase[i]    , phase[i].min()    ),\n",
    "#                              np.subtract(phase[i].max()    , phase[i].min()     ))"
   ]
  },
  {
   "cell_type": "code",
   "execution_count": 10,
   "metadata": {
    "scrolled": true
   },
   "outputs": [
    {
     "name": "stdout",
     "output_type": "stream",
     "text": [
      "(1000, 257, 382)\n",
      "(1000, 257, 382)\n"
     ]
    }
   ],
   "source": [
    "print(magnitude[:,0].shape)\n",
    "print(magnitude[:,1].shape)"
   ]
  },
  {
   "cell_type": "code",
   "execution_count": 11,
   "metadata": {},
   "outputs": [],
   "source": [
    "S_left        = magnitude[:,0].reshape(1000, 1, 257, 382)\n",
    "S_right       = magnitude[:,1].reshape(1000, 1, 257, 382)\n",
    "# S_left_phase  = phase[:,0].reshape(1000, 1, 257, 382)\n",
    "# S_right_phase = phase[:,1].reshape(1000, 1, 257, 382)"
   ]
  },
  {
   "cell_type": "code",
   "execution_count": 12,
   "metadata": {},
   "outputs": [],
   "source": [
    "inputs = np.concatenate((S_left, S_right), axis=1)"
   ]
  },
  {
   "cell_type": "code",
   "execution_count": 13,
   "metadata": {},
   "outputs": [],
   "source": [
    "labels = phi.reshape(1000,)\n",
    "\n",
    "labels[labels == -1] = 200\n",
    "labels = np.divide(labels, 20)\n",
    "labels = np.int32(labels)"
   ]
  },
  {
   "cell_type": "code",
   "execution_count": 14,
   "metadata": {
    "scrolled": true
   },
   "outputs": [
    {
     "name": "stdout",
     "output_type": "stream",
     "text": [
      "Variable     Type       Data/Info\n",
      "---------------------------------\n",
      "PATH         str        ../compu/data/\n",
      "S_left       ndarray    1000x1x257x382: 98174000 elems, type `float64`, 785392000 bytes (749.0081787109375 Mb)\n",
      "S_right      ndarray    1000x1x257x382: 98174000 elems, type `float64`, 785392000 bytes (749.0081787109375 Mb)\n",
      "angle_file   dict       n=4\n",
      "filename     str        angle.mat\n",
      "i            int        999\n",
      "inputs       ndarray    1000x2x257x382: 196348000 elems, type `float64`, 1570784000 bytes (1498.016357421875 Mb)\n",
      "io           module     <module 'scipy.io' from '<...>es/scipy/io/__init__.py'>\n",
      "labels       ndarray    1000: 1000 elems, type `int32`, 4000 bytes\n",
      "magnitude    ndarray    1000x2x257x382: 196348000 elems, type `float64`, 1570784000 bytes (1498.016357421875 Mb)\n",
      "mat_file     dict       n=14\n",
      "np           module     <module 'numpy' from '/co<...>kages/numpy/__init__.py'>\n",
      "phi          ndarray    1000x1: 1000 elems, type `int16`, 2000 bytes\n"
     ]
    }
   ],
   "source": [
    "%whos"
   ]
  },
  {
   "cell_type": "code",
   "execution_count": 15,
   "metadata": {},
   "outputs": [
    {
     "name": "stdout",
     "output_type": "stream",
     "text": [
      "(1000, 2, 257, 382)\n",
      "float64\n",
      "(1000,)\n",
      "int32\n"
     ]
    }
   ],
   "source": [
    "print(inputs.shape)\n",
    "print(inputs.dtype)\n",
    "print(labels.shape)\n",
    "print(labels.dtype)"
   ]
  },
  {
   "cell_type": "code",
   "execution_count": 16,
   "metadata": {},
   "outputs": [],
   "source": [
    "# np.savez_compressed('normalized_dataset', inputs=inputs, labels=labels)"
   ]
  },
  {
   "cell_type": "code",
   "execution_count": 17,
   "metadata": {},
   "outputs": [],
   "source": [
    "def train_test_split(inputs,\n",
    "                     labels,\n",
    "                     test_size=0.2,\n",
    "                     shuffle=True,\n",
    "                     random_state=None):\n",
    "    \n",
    "    test_num = int(inputs.shape[0] * test_size)\n",
    "    train_num = inputs.shape[0] - test_num\n",
    "\n",
    "    if shuffle:\n",
    "        np.random.seed(random_state)\n",
    "        shuffle = np.random.permutation(inputs.shape[0])\n",
    "        inputs = inputs[shuffle, :]\n",
    "        labels = labels[shuffle, ]\n",
    "        \n",
    "        inputs_train = inputs[:train_num]\n",
    "        labels_train = labels[:train_num]\n",
    "        inputs_test  = inputs[train_num:]\n",
    "        labels_test  = labels[train_num:]\n",
    "    else:\n",
    "        inputs_train = inputs[:train_num]\n",
    "        labels_train = labels[:train_num]\n",
    "        inputs_test  = inputs[train_num:]\n",
    "        labels_test  = labels[train_num:]\n",
    "\n",
    "    return inputs_train, inputs_test, labels_train, labels_test"
   ]
  },
  {
   "cell_type": "code",
   "execution_count": 18,
   "metadata": {},
   "outputs": [],
   "source": [
    "inputs_train, inputs_test, labels_train, labels_test  = train_test_split(inputs, labels, test_size=0.2, shuffle=True)\n",
    "_,            inputs_valid, _,           labels_valid = train_test_split(inputs_train, labels_train, test_size=0.25, shuffle=True)"
   ]
  },
  {
   "cell_type": "code",
   "execution_count": 19,
   "metadata": {},
   "outputs": [],
   "source": [
    "np.savez_compressed('without_phase_splitted_dataset',\n",
    "                    inputs_train = inputs_train,\n",
    "                    inputs_test  = inputs_test,\n",
    "                    inputs_valid = inputs_valid,\n",
    "                    labels_train  = labels_train,\n",
    "                    labels_test   = labels_test,\n",
    "                    labels_valid  = labels_valid\n",
    "                   )"
   ]
  },
  {
   "cell_type": "code",
   "execution_count": 20,
   "metadata": {
    "scrolled": true
   },
   "outputs": [
    {
     "name": "stdout",
     "output_type": "stream",
     "text": [
      "Variable           Type        Data/Info\n",
      "----------------------------------------\n",
      "PATH               str         ../compu/data/\n",
      "S_left             ndarray     1000x1x257x382: 98174000 elems, type `float64`, 785392000 bytes (749.0081787109375 Mb)\n",
      "S_right            ndarray     1000x1x257x382: 98174000 elems, type `float64`, 785392000 bytes (749.0081787109375 Mb)\n",
      "angle_file         dict        n=4\n",
      "filename           str         angle.mat\n",
      "i                  int         999\n",
      "inputs             ndarray     1000x2x257x382: 196348000 elems, type `float64`, 1570784000 bytes (1498.016357421875 Mb)\n",
      "inputs_test        ndarray     200x2x257x382: 39269600 elems, type `float64`, 314156800 bytes (299.603271484375 Mb)\n",
      "inputs_train       ndarray     800x2x257x382: 157078400 elems, type `float64`, 1256627200 bytes (1198.4130859375 Mb)\n",
      "inputs_valid       ndarray     200x2x257x382: 39269600 elems, type `float64`, 314156800 bytes (299.603271484375 Mb)\n",
      "io                 module      <module 'scipy.io' from '<...>es/scipy/io/__init__.py'>\n",
      "labels             ndarray     1000: 1000 elems, type `int32`, 4000 bytes\n",
      "labels_test        ndarray     200: 200 elems, type `int32`, 800 bytes\n",
      "labels_train       ndarray     800: 800 elems, type `int32`, 3200 bytes\n",
      "labels_valid       ndarray     200: 200 elems, type `int32`, 800 bytes\n",
      "magnitude          ndarray     1000x2x257x382: 196348000 elems, type `float64`, 1570784000 bytes (1498.016357421875 Mb)\n",
      "mat_file           dict        n=14\n",
      "np                 module      <module 'numpy' from '/co<...>kages/numpy/__init__.py'>\n",
      "phi                ndarray     1000x1: 1000 elems, type `int16`, 2000 bytes\n",
      "train_test_split   function    <function train_test_split at 0x7f90d24db710>\n"
     ]
    }
   ],
   "source": [
    "%whos"
   ]
  }
 ],
 "metadata": {
  "kernelspec": {
   "display_name": "Python 3",
   "language": "python",
   "name": "python3"
  },
  "language_info": {
   "codemirror_mode": {
    "name": "ipython",
    "version": 3
   },
   "file_extension": ".py",
   "mimetype": "text/x-python",
   "name": "python",
   "nbconvert_exporter": "python",
   "pygments_lexer": "ipython3",
   "version": "3.7.7"
  }
 },
 "nbformat": 4,
 "nbformat_minor": 4
}
