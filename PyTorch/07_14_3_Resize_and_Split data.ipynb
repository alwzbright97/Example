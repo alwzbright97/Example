{
 "cells": [
  {
   "cell_type": "markdown",
   "metadata": {},
   "source": [
    "# Save Resized Datas & Split Data"
   ]
  },
  {
   "cell_type": "code",
   "execution_count": 1,
   "metadata": {},
   "outputs": [],
   "source": [
    "from scipy import io\n",
    "import numpy as np"
   ]
  },
  {
   "cell_type": "markdown",
   "metadata": {},
   "source": [
    "### Load Data"
   ]
  },
  {
   "cell_type": "code",
   "execution_count": 2,
   "metadata": {},
   "outputs": [],
   "source": [
    "mat_file = io.loadmat('./dataset_1.mat')"
   ]
  },
  {
   "cell_type": "code",
   "execution_count": 3,
   "metadata": {},
   "outputs": [],
   "source": [
    "angle_file = io.loadmat('./angle.mat')"
   ]
  },
  {
   "cell_type": "code",
   "execution_count": 4,
   "metadata": {},
   "outputs": [],
   "source": [
    "(S_left, S_left_phase, S_right, S_right_phase) = (mat_file['S_left'],mat_file['S_left_phase'],mat_file['S_right'],mat_file['S_right_phase'])"
   ]
  },
  {
   "cell_type": "markdown",
   "metadata": {},
   "source": [
    "### Resize X Data"
   ]
  },
  {
   "cell_type": "code",
   "execution_count": 5,
   "metadata": {},
   "outputs": [],
   "source": [
    "S_left_reshape = np.swapaxes(S_left, 1, 2)\n",
    "S_left_reshape = np.swapaxes(S_left_reshape, 0, 1)\n",
    "S_left_reshape = np.reshape(S_left_reshape, (1000, 1, 257, 382))\n",
    "del S_left\n",
    "\n",
    "S_left_phase_reshape = np.swapaxes(S_left_phase, 1, 2)\n",
    "S_left_phase_reshape = np.swapaxes(S_left_phase_reshape, 0, 1)\n",
    "S_left_phase_reshape = np.reshape(S_left_phase_reshape, (1000, 1, 257, 382))\n",
    "del S_left_phase\n",
    "\n",
    "S_right_reshape = np.swapaxes(S_right, 1, 2)\n",
    "S_right_reshape = np.swapaxes(S_right_reshape, 0, 1)\n",
    "S_right_reshape = np.reshape(S_right_reshape, (1000, 1, 257, 382))\n",
    "del S_right\n",
    "\n",
    "S_right_phase_reshape = np.swapaxes(S_right_phase, 1, 2)\n",
    "S_right_phase_reshape = np.swapaxes(S_right_phase_reshape, 0, 1)\n",
    "S_right_phase_reshape = np.reshape(S_right_phase_reshape, (1000, 1, 257, 382))\n",
    "del S_right_phase"
   ]
  },
  {
   "cell_type": "markdown",
   "metadata": {},
   "source": [
    "### Combine X Data"
   ]
  },
  {
   "cell_type": "code",
   "execution_count": 6,
   "metadata": {},
   "outputs": [],
   "source": [
    "data = np.concatenate((S_left_reshape, S_left_phase_reshape, S_right_reshape, S_right_phase_reshape), axis=1)"
   ]
  },
  {
   "cell_type": "markdown",
   "metadata": {},
   "source": [
    "### Getting Y data"
   ]
  },
  {
   "cell_type": "code",
   "execution_count": 7,
   "metadata": {},
   "outputs": [],
   "source": [
    "targets = angle_file['phi'][1:1001]"
   ]
  },
  {
   "cell_type": "markdown",
   "metadata": {},
   "source": [
    "### Save 1"
   ]
  },
  {
   "cell_type": "code",
   "execution_count": 8,
   "metadata": {},
   "outputs": [],
   "source": [
    "np.savez('./dataset_from_ipynb', data=data, targets=targets)"
   ]
  },
  {
   "cell_type": "markdown",
   "metadata": {},
   "source": [
    "## Split Dataset to train, test\n",
    "-----------------------"
   ]
  },
  {
   "cell_type": "markdown",
   "metadata": {},
   "source": [
    "### import train_test_split"
   ]
  },
  {
   "cell_type": "code",
   "execution_count": 9,
   "metadata": {},
   "outputs": [],
   "source": [
    "from sklearn.model_selection import train_test_split"
   ]
  },
  {
   "cell_type": "markdown",
   "metadata": {},
   "source": [
    "### Split (train : test) = (8 : 2)"
   ]
  },
  {
   "cell_type": "code",
   "execution_count": 10,
   "metadata": {},
   "outputs": [],
   "source": [
    "X_train, X_test, y_train, y_test = train_test_split(data, targets, test_size=0.2, shuffle=True)"
   ]
  },
  {
   "cell_type": "markdown",
   "metadata": {},
   "source": [
    "### Save 2"
   ]
  },
  {
   "cell_type": "code",
   "execution_count": 11,
   "metadata": {},
   "outputs": [],
   "source": [
    "np.savez('./dataset_split_from_ipynb', X_train=X_train, X_test=X_test, y_train=y_train, y_test=y_test)"
   ]
  },
  {
   "cell_type": "code",
   "execution_count": 12,
   "metadata": {},
   "outputs": [],
   "source": [
    "dataset_split = np.load('./dataset_split_from_ipynb.npz')"
   ]
  }
 ],
 "metadata": {
  "kernelspec": {
   "display_name": "Python 3",
   "language": "python",
   "name": "python3"
  },
  "language_info": {
   "codemirror_mode": {
    "name": "ipython",
    "version": 3
   },
   "file_extension": ".py",
   "mimetype": "text/x-python",
   "name": "python",
   "nbconvert_exporter": "python",
   "pygments_lexer": "ipython3",
   "version": "3.7.3"
  }
 },
 "nbformat": 4,
 "nbformat_minor": 4
}
