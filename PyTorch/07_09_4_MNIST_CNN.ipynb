{
 "cells": [
  {
   "cell_type": "markdown",
   "metadata": {},
   "source": [
    "CPU로 실행\n",
    "\n",
    "Parameter 설정\n",
    "learning rate, training epochs, batch size\n",
    "\n",
    "MNIST Data load"
   ]
  },
  {
   "cell_type": "code",
   "execution_count": 1,
   "metadata": {},
   "outputs": [],
   "source": [
    "import torch\n",
    "import torchvision.datasets as dsets\n",
    "import torchvision.transforms as transforms\n",
    "import torch.nn as nn\n",
    "import torch.nn.init\n",
    "from torch.utils.data import DataLoader\n",
    "\n",
    "device = 'cpu'\n",
    "torch.manual_seed(333)\n",
    "\n",
    "learning_rate = 0.001\n",
    "training_epochs = 15\n",
    "batch_size = 100\n",
    "\n",
    "mnist_train = dsets.MNIST(root='/tmp/pycharm_project_001/MNIST_data/',\n",
    "                          train=True,\n",
    "                          transform=transforms.ToTensor(),\n",
    "                          download=True)\n",
    "\n",
    "mnist_test = dsets.MNIST(root='/tmp/pycharm_project_001/MNIST_data/',\n",
    "                         train=False,\n",
    "                         transform=transforms.ToTensor(),\n",
    "                         download=True)\n",
    "\n",
    "data_loader = DataLoader(dataset=mnist_train,\n",
    "                         batch_size=batch_size,\n",
    "                         shuffle=True,\n",
    "                         drop_last=True)"
   ]
  },
  {
   "cell_type": "markdown",
   "metadata": {},
   "source": [
    "Convolutional Neural Newwork, CNN 모델 구성\n",
    "\n",
    "Layer 1 : 1차 레이어 input = 1, output = 32 / ReLU, Maxpooling\n",
    "\n",
    "Max Pooling 각 해당 영역 층의 최대값을 출력\n",
    "\n",
    "Layer 2 : 2차 레이어 input = 32, output = 64 / ReLU, Maxpooling\n",
    "\n",
    "Layer 3 : 3차 레이어 input = 64, output = 128 / ReLU, Maxpooling 적용\n",
    "\n",
    "FC(Fully Connected) Layer 1, 2 생성"
   ]
  },
  {
   "cell_type": "code",
   "execution_count": 2,
   "metadata": {},
   "outputs": [],
   "source": [
    "class CNN(nn.Module):\n",
    "\n",
    "    def __init__(self):\n",
    "        super(CNN, self).__init__()\n",
    "\n",
    "        self.layer1 = nn.Sequential(nn.Conv2d(1, 32, kernel_size=3, stride=1, padding=1),\n",
    "                                    nn.ReLU(),\n",
    "                                    nn.MaxPool2d(kernel_size=2, stride=2)\n",
    "                                    )\n",
    "\n",
    "        self.layer2 = nn.Sequential(nn.Conv2d(32, 64, kernel_size=3, stride=1, padding=1),\n",
    "                                    nn.ReLU(),\n",
    "                                    nn.MaxPool2d(kernel_size=2, stride=2)\n",
    "                                    )\n",
    "\n",
    "        self.layer3 = nn.Sequential(nn.Conv2d(64, 128, kernel_size=3, stride=1, padding=1),\n",
    "                                    nn.ReLU(),\n",
    "                                    nn.MaxPool2d(kernel_size=2)\n",
    "                                    )\n",
    "        # Final FC 7x7x64 inputs -> 10 outputs\n",
    "        self.fc1 = nn.Linear(3 * 3 * 128, 625)\n",
    "        self.relu = nn.ReLU()\n",
    "        self.fc2 = nn.Linear(625, 10, bias=True)\n",
    "        nn.init.xavier_uniform_(self.fc1.weight)\n",
    "        nn.init.xavier_uniform_(self.fc2.weight)\n",
    "\n",
    "    def forward(self, x):\n",
    "        out = self.layer1(x)\n",
    "        out = self.layer2(out)\n",
    "        out = self.layer3(out)\n",
    "\n",
    "        out = out.view(out.size(0), -1)     # Flatten them for FC\n",
    "        out = self.fc1(out)\n",
    "        out = self.relu(out)\n",
    "        out = self.fc2(out)\n",
    "        return out"
   ]
  },
  {
   "cell_type": "markdown",
   "metadata": {},
   "source": [
    "model - CNN 으로 정의\n",
    "\n",
    "value = torch.Tensor(1, 1, 28, 28).to(device)\n",
    "\n",
    "정상적으로 작동하는지 확인\n",
    "\n",
    "CrossEntropyLoss 오차 함수와 Adam optimizer 사용"
   ]
  },
  {
   "cell_type": "code",
   "execution_count": 3,
   "metadata": {},
   "outputs": [
    {
     "name": "stdout",
     "output_type": "stream",
     "text": [
      "torch.Size([1, 10])\n"
     ]
    }
   ],
   "source": [
    "model = CNN().to(device)\n",
    "value = torch.Tensor(1, 1, 28, 28).to(device)\n",
    "print(model(value).shape)\n",
    "criterion = nn.CrossEntropyLoss().to(device)\n",
    "optimizer = torch.optim.Adam(model.parameters(), lr=learning_rate)"
   ]
  },
  {
   "cell_type": "markdown",
   "metadata": {},
   "source": [
    "X = X.to(device) 작성 이유 : Cuda를 사용하는 경우 X가 torch.cuda로 구성되어야 하기 때문에"
   ]
  },
  {
   "cell_type": "code",
   "execution_count": 4,
   "metadata": {},
   "outputs": [
    {
     "name": "stdout",
     "output_type": "stream",
     "text": [
      "[Epoch :    1] cost = 0.159101307\n",
      "[Epoch :    2] cost = 0.0431748964\n",
      "[Epoch :    3] cost = 0.028897427\n",
      "[Epoch :    4] cost = 0.0230954979\n",
      "[Epoch :    5] cost = 0.0178326853\n",
      "[Epoch :    6] cost = 0.0148608685\n",
      "[Epoch :    7] cost = 0.012440471\n",
      "[Epoch :    8] cost = 0.0126087936\n",
      "[Epoch :    9] cost = 0.00823160633\n",
      "[Epoch :   10] cost = 0.00890754908\n",
      "[Epoch :   11] cost = 0.00864369888\n",
      "[Epoch :   12] cost = 0.00622282876\n",
      "[Epoch :   13] cost = 0.00565810874\n",
      "[Epoch :   14] cost = 0.00670281565\n",
      "[Epoch :   15] cost = 0.00575227849\n",
      "Learning finished\n"
     ]
    }
   ],
   "source": [
    "total_batch = len(data_loader)\n",
    "\n",
    "for epoch in range(training_epochs):\n",
    "    avg_cost = 0\n",
    "\n",
    "    for X, Y in data_loader:\n",
    "        X = X.to(device)\n",
    "        Y = Y.to(device)\n",
    "\n",
    "        optimizer.zero_grad()\n",
    "        hypothesis = model(X)\n",
    "        cost = criterion(hypothesis, Y)\n",
    "        cost.backward()\n",
    "        optimizer.step()\n",
    "\n",
    "        avg_cost += cost /total_batch\n",
    "    print('[Epoch : {:>4}] cost = {:>.9}'.format(epoch + 1, avg_cost))\n",
    "print('Learning finished')"
   ]
  },
  {
   "cell_type": "code",
   "execution_count": 5,
   "metadata": {},
   "outputs": [
    {
     "name": "stdout",
     "output_type": "stream",
     "text": [
      "Accuracy :  0.9879000186920166\n"
     ]
    }
   ],
   "source": [
    "with torch.no_grad():\n",
    "    X_test = mnist_test.data.view(len(mnist_test), 1, 28, 28).float().to(device)\n",
    "    Y_test = mnist_test.targets.to(device)\n",
    "\n",
    "    prediction = model(X_test)\n",
    "    correct_prediction = torch.argmax(prediction, 1) == Y_test\n",
    "    accuracy = correct_prediction.float().mean()\n",
    "    print('Accuracy : ', accuracy.item())"
   ]
  }
 ],
 "metadata": {
  "kernelspec": {
   "display_name": "Python 3",
   "language": "python",
   "name": "python3"
  },
  "language_info": {
   "codemirror_mode": {
    "name": "ipython",
    "version": 3
   },
   "file_extension": ".py",
   "mimetype": "text/x-python",
   "name": "python",
   "nbconvert_exporter": "python",
   "pygments_lexer": "ipython3",
   "version": "3.7.3"
  }
 },
 "nbformat": 4,
 "nbformat_minor": 4
}
