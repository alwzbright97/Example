{
 "cells": [
  {
   "cell_type": "code",
   "execution_count": 1,
   "metadata": {},
   "outputs": [],
   "source": [
    "import numpy as np\n",
    "from scipy import io"
   ]
  },
  {
   "cell_type": "code",
   "execution_count": 2,
   "metadata": {},
   "outputs": [],
   "source": [
    "PATH = '../compu/data/'\n",
    "filename = 'dataset_1.mat'\n",
    "mat_file = io.loadmat(PATH + filename)\n",
    "filename = 'angle.mat'\n",
    "angle_file = io.loadmat(PATH + filename)"
   ]
  },
  {
   "cell_type": "code",
   "execution_count": 3,
   "metadata": {},
   "outputs": [],
   "source": [
    "S_left = mat_file['S_left']\n",
    "S_right = mat_file['S_right']\n",
    "# S_left_phase = mat_file['S_left_phase']\n",
    "# S_right_phase = mat_file['S_right_phase']\n",
    "\n",
    "phi = angle_file['phi']\n",
    "phi = phi[:1000]"
   ]
  },
  {
   "cell_type": "code",
   "execution_count": 4,
   "metadata": {},
   "outputs": [],
   "source": [
    "# np.savez_compressed('dataset', \n",
    "#                     S_left=S_left,\n",
    "#                     S_right=S_right, \n",
    "#                     S_left_phase=S_left_phase, \n",
    "#                     S_right_phase=S_right_phase, \n",
    "#                     phi=phi)"
   ]
  },
  {
   "cell_type": "code",
   "execution_count": 5,
   "metadata": {},
   "outputs": [],
   "source": [
    "S_left        = np.transpose(S_left,        (2, 0, 1))\n",
    "# S_left_phase  = np.transpose(S_left_phase,  (2, 0, 1))\n",
    "S_right       = np.transpose(S_right,       (2, 0, 1))\n",
    "# S_right_phase = np.transpose(S_right_phase, (2, 0, 1))"
   ]
  },
  {
   "cell_type": "code",
   "execution_count": 6,
   "metadata": {},
   "outputs": [],
   "source": [
    "S_left        = np.reshape(S_left,        (1000, 1, 257, 382))\n",
    "# S_left_phase  = np.reshape(S_left_phase,  (1000, 1, 257, 382))\n",
    "S_right       = np.reshape(S_right,       (1000, 1, 257, 382))\n",
    "# S_right_phase = np.reshape(S_right_phase, (1000, 1, 257, 382))"
   ]
  },
  {
   "cell_type": "markdown",
   "metadata": {},
   "source": [
    "-------------------------------\n",
    "## Normalization"
   ]
  },
  {
   "cell_type": "code",
   "execution_count": 7,
   "metadata": {},
   "outputs": [],
   "source": [
    "# Log Scale\n",
    "S_left  = np.log10(S_left  + 1)\n",
    "S_right = np.log10(S_right + 1)"
   ]
  },
  {
   "cell_type": "code",
   "execution_count": 8,
   "metadata": {},
   "outputs": [],
   "source": [
    "magnitude = np.concatenate((S_left, S_right), axis=1)\n",
    "# phase = np.concatenate((S_left_phase, S_right_phase), axis=1)"
   ]
  },
  {
   "cell_type": "code",
   "execution_count": 9,
   "metadata": {},
   "outputs": [],
   "source": [
    "for i in range(len(magnitude)):\n",
    "    # Z-score Normalization\n",
    "    magnitude[i] = np.divide(np.subtract(magnitude[i], magnitude[i].mean()),\n",
    "                             magnitude[i].std())\n",
    "#     phase[i]     = np.divide(np.subtract(phase[i]    , phase[i].mean()    ),\n",
    "#                              phase[i].std())\n",
    "    \n",
    "    # Min-Max Normalization\n",
    "    magnitude[i] = np.divide(np.subtract(magnitude[i], magnitude[i].min()),\n",
    "                             np.subtract(magnitude[i].max(), magnitude[i].min() ))\n",
    "#     phase[i]     = np.divide(np.subtract(phase[i]    , phase[i].min()    ),\n",
    "#                              np.subtract(phase[i].max()    , phase[i].min()     ))"
   ]
  },
  {
   "cell_type": "code",
   "execution_count": 10,
   "metadata": {},
   "outputs": [],
   "source": [
    "S_left        = magnitude[:,0].reshape(1000, 1, 257, 382)\n",
    "S_right       = magnitude[:,1].reshape(1000, 1, 257, 382)\n",
    "# S_left_phase  = phase[:,0].reshape(1000, 1, 257, 382)\n",
    "# S_right_phase = phase[:,1].reshape(1000, 1, 257, 382)"
   ]
  },
  {
   "cell_type": "code",
   "execution_count": 11,
   "metadata": {
    "scrolled": false
   },
   "outputs": [
    {
     "name": "stdout",
     "output_type": "stream",
     "text": [
      "(1000, 257, 382)\n",
      "(1000, 257, 382)\n"
     ]
    }
   ],
   "source": [
    "print(magnitude[:,0].shape)\n",
    "print(magnitude[:,1].shape)"
   ]
  },
  {
   "cell_type": "code",
   "execution_count": 12,
   "metadata": {},
   "outputs": [],
   "source": [
    "# inputs = np.concatenate((S_left, S_left_phase, S_right, S_right_phase), axis=1)\n",
    "inputs = np.concatenate((S_left, S_right), axis=1)"
   ]
  },
  {
   "cell_type": "code",
   "execution_count": 13,
   "metadata": {},
   "outputs": [],
   "source": [
    "labels = phi.reshape(1000,)\n",
    "\n",
    "labels[labels == -1] = 200\n",
    "labels = np.divide(labels, 20)\n",
    "labels = np.int32(labels)"
   ]
  },
  {
   "cell_type": "markdown",
   "metadata": {},
   "source": [
    "-------------------------------------------"
   ]
  },
  {
   "cell_type": "markdown",
   "metadata": {},
   "source": [
    "# Augmentation Parameters"
   ]
  },
  {
   "cell_type": "markdown",
   "metadata": {},
   "source": [
    "Augment 1"
   ]
  },
  {
   "cell_type": "code",
   "execution_count": 14,
   "metadata": {},
   "outputs": [],
   "source": [
    "T = 30\n",
    "F = 20\n",
    "\n",
    "t_num_min = 2\n",
    "t_num_max = 3\n",
    "\n",
    "f_num_min = 2\n",
    "f_num_max = 3"
   ]
  },
  {
   "cell_type": "code",
   "execution_count": 15,
   "metadata": {},
   "outputs": [],
   "source": [
    "augment_mask_1 = magnitude.copy()\n",
    "# augment_mask_1 = inputs.copy()"
   ]
  },
  {
   "cell_type": "code",
   "execution_count": 16,
   "metadata": {},
   "outputs": [],
   "source": [
    "for i in range(1000):\n",
    "    mean = np.mean(magnitude[i])\n",
    "#     mean_0 = np.mean(inputs[i,0])\n",
    "#     mean_2 = np.mean(inputs[i,0])\n",
    "    \n",
    "    n_mask_t = np.random.randint(t_num_min, t_num_max + 1 )\n",
    "    for j in range(n_mask_t):\n",
    "        t   = np.random.randint(0, T + 1)\n",
    "        t_0 = np.random.randint(0, 382 - t)\n",
    "        \n",
    "        augment_mask_1[i, :, :, t_0 : t_0 + t] = mean\n",
    "#         augment_mask_1[i, :, :, t_0 : t_0 + t] = mean_0\n",
    "#         augment_mask_1[i, 2, :, t_0 : t_0 + t] = mean_2\n",
    "    \n",
    "    \n",
    "    n_mask_f = np.random.randint(f_num_min, f_num_max + 1 )\n",
    "    for k in range(n_mask_f):\n",
    "        f   = np.random.randint(0, F + 1)\n",
    "        f_0 = np.random.randint(0, 257 - f)\n",
    "        \n",
    "        augment_mask_1[i, :, f_0 : f_0 + f, :] = mean\n",
    "#         augment_mask_1[i, 0, f_0 : f_0 + f , :] = mean_0\n",
    "#         augment_mask_1[i, 2, f_0 : f_0 + f , :] = mean_2"
   ]
  },
  {
   "cell_type": "markdown",
   "metadata": {},
   "source": [
    "Augment 2"
   ]
  },
  {
   "cell_type": "code",
   "execution_count": 17,
   "metadata": {},
   "outputs": [],
   "source": [
    "augment_mask_2 = magnitude.copy()"
   ]
  },
  {
   "cell_type": "code",
   "execution_count": 18,
   "metadata": {},
   "outputs": [],
   "source": [
    "for i in range(1000):\n",
    "    mean = np.mean(magnitude[i])\n",
    "\n",
    "    n_mask_t = np.random.randint(2, 4)\n",
    "    for j in range(n_mask_t):\n",
    "        t   = np.random.randint(0, T + 1)\n",
    "        t_0 = np.random.randint(0, 382 - t)\n",
    "        \n",
    "        augment_mask_2[i, :, :, t_0 : t_0 + t] = mean\n",
    "    \n",
    "    n_mask_f = np.random.randint(2, 4)\n",
    "    for k in range(n_mask_f):\n",
    "        f   = np.random.randint(0, F + 1)\n",
    "        f_0 = np.random.randint(0, 257 - f)\n",
    "        \n",
    "        augment_mask_2[i, :, f_0 : f_0 + f, :] = mean"
   ]
  },
  {
   "cell_type": "markdown",
   "metadata": {},
   "source": [
    "Augment 3"
   ]
  },
  {
   "cell_type": "code",
   "execution_count": 19,
   "metadata": {},
   "outputs": [],
   "source": [
    "augment_mask_3 = magnitude.copy()"
   ]
  },
  {
   "cell_type": "code",
   "execution_count": 20,
   "metadata": {},
   "outputs": [],
   "source": [
    "for i in range(1000):\n",
    "    mean = np.mean(magnitude[i])\n",
    "    \n",
    "    n_mask_t = np.random.randint(2, 4)\n",
    "    for j in range(n_mask_t):\n",
    "        t   = np.random.randint(0, T + 1)\n",
    "        t_0 = np.random.randint(0, 382 - t)\n",
    "        \n",
    "        augment_mask_3[i, :, :, t_0 : t_0 + t] = mean\n",
    "    \n",
    "    n_mask_f = np.random.randint(2, 4)\n",
    "    for k in range(n_mask_f):\n",
    "        f   = np.random.randint(0, F + 1)\n",
    "        f_0 = np.random.randint(0, 257 - f)\n",
    "        \n",
    "        augment_mask_3[i, :, f_0 : f_0 + f, :] = mean"
   ]
  },
  {
   "cell_type": "markdown",
   "metadata": {},
   "source": [
    "Comparision"
   ]
  },
  {
   "cell_type": "code",
   "execution_count": 21,
   "metadata": {},
   "outputs": [
    {
     "name": "stdout",
     "output_type": "stream",
     "text": [
      "False\n",
      "False\n",
      "False\n"
     ]
    }
   ],
   "source": [
    "print((magnitude == augment_mask_1).all())\n",
    "print((magnitude == augment_mask_2).all())\n",
    "print((magnitude == augment_mask_3).all())\n"
   ]
  },
  {
   "cell_type": "code",
   "execution_count": 22,
   "metadata": {},
   "outputs": [],
   "source": [
    "import matplotlib.pyplot as plt"
   ]
  },
  {
   "cell_type": "code",
   "execution_count": 23,
   "metadata": {},
   "outputs": [
    {
     "data": {
      "image/png": "[encoded data removed]",
      "text/plain": [
       "<Figure size 1440x1080 with 2 Axes>"
      ]
     },
     "metadata": {
      "needs_background": "light"
     },
     "output_type": "display_data"
    }
   ],
   "source": [
    "index = 3\n",
    "fig = plt.figure(figsize=(20,15))\n",
    "fig1 = fig.add_subplot(1,2,1)\n",
    "fig1.imshow(augment_mask_1[index,0])\n",
    "fig2 = fig.add_subplot(1,2,2)\n",
    "fig2.imshow(magnitude[index,0])\n",
    "\n",
    "plt.show()"
   ]
  },
  {
   "cell_type": "code",
   "execution_count": 24,
   "metadata": {},
   "outputs": [],
   "source": [
    "# np.savez_compressed('masked_aug_dataset', augment_mask_1=augment_mask_1, augment_mask_2=augment_mask_2, augment_mask_3=augment_mask_3)"
   ]
  },
  {
   "cell_type": "code",
   "execution_count": 25,
   "metadata": {},
   "outputs": [
    {
     "name": "stdout",
     "output_type": "stream",
     "text": [
      "(1000, 2, 257, 382)\n",
      "(1000, 2, 257, 382)\n",
      "(1000, 2, 257, 382)\n"
     ]
    }
   ],
   "source": [
    "print(augment_mask_1.shape)\n",
    "print(augment_mask_2.shape)\n",
    "print(augment_mask_3.shape)"
   ]
  },
  {
   "cell_type": "code",
   "execution_count": 26,
   "metadata": {},
   "outputs": [],
   "source": [
    "def train_test_split(inputs,\n",
    "                     labels,\n",
    "                     test_size=0.2,\n",
    "                     shuffle=True,\n",
    "                     random_state=None):\n",
    "    \n",
    "    test_num = int(inputs.shape[0] * test_size)\n",
    "    train_num = inputs.shape[0] - test_num\n",
    "\n",
    "    if shuffle:\n",
    "        np.random.seed(random_state)\n",
    "        shuffle = np.random.permutation(inputs.shape[0])\n",
    "        inputs = inputs[shuffle, :]\n",
    "        labels = labels[shuffle, ]\n",
    "        \n",
    "        inputs_train = inputs[:train_num]\n",
    "        labels_train = labels[:train_num]\n",
    "        inputs_test  = inputs[train_num:]\n",
    "        labels_test  = labels[train_num:]\n",
    "    else:\n",
    "        inputs_train = inputs[:train_num]\n",
    "        labels_train = labels[:train_num]\n",
    "        inputs_test  = inputs[train_num:]\n",
    "        labels_test  = labels[train_num:]\n",
    "\n",
    "    return inputs_train, inputs_test, labels_train, labels_test"
   ]
  },
  {
   "cell_type": "code",
   "execution_count": 27,
   "metadata": {},
   "outputs": [],
   "source": [
    "inputs_train, inputs_test, labels_train, labels_test  = train_test_split(inputs, labels, test_size=0.2, shuffle=True)\n",
    "_,            inputs_valid, _,           labels_valid = train_test_split(inputs_train, labels_train, test_size=0.25, shuffle=True)"
   ]
  },
  {
   "cell_type": "markdown",
   "metadata": {},
   "source": [
    "Concatenate Masked Dataset"
   ]
  },
  {
   "cell_type": "code",
   "execution_count": 28,
   "metadata": {},
   "outputs": [],
   "source": [
    "inputs_train = np.concatenate((inputs_train, augment_mask_1, augment_mask_2, augment_mask_3), axis=0)\n",
    "labels_train = np.concatenate((labels_train, labels        , labels        , labels        ), axis=0)"
   ]
  },
  {
   "cell_type": "code",
   "execution_count": 29,
   "metadata": {},
   "outputs": [],
   "source": [
    "np.savez_compressed('masked_aug_dataset',\n",
    "                    inputs_train = inputs_train,\n",
    "                    inputs_test  = inputs_test,\n",
    "                    inputs_valid = inputs_valid,\n",
    "                    labels_train  = labels_train,\n",
    "                    labels_test   = labels_test,\n",
    "                    labels_valid  = labels_valid\n",
    "                   )"
   ]
  }
 ],
 "metadata": {
  "kernelspec": {
   "display_name": "Python 3",
   "language": "python",
   "name": "python3"
  },
  "language_info": {
   "codemirror_mode": {
    "name": "ipython",
    "version": 3
   },
   "file_extension": ".py",
   "mimetype": "text/x-python",
   "name": "python",
   "nbconvert_exporter": "python",
   "pygments_lexer": "ipython3",
   "version": "3.7.7"
  }
 },
 "nbformat": 4,
 "nbformat_minor": 4
}
