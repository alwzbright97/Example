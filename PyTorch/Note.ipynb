{
 "cells": [
  {
   "cell_type": "markdown",
   "metadata": {},
   "source": [
    "Solution\n",
    "===================\n",
    "\n",
    "\n",
    "1. [Multi-Class(Label) Classification](https://wordbe.tistory.com/entry/ML-Cross-entropyCategorical-Binary%EC%9D%98-%EC%9D%B4%ED%95%B4)\n",
    "\n",
    "2. [AutoEncoder](https://wjddyd66.github.io/pytorch/Pytorch-AutoEncoder/)    \n",
    "[AutoEncoder](https://debuggercafe.com/autoencoder-neural-network-application-to-image-denoising/)\n",
    "[wikidocs](https://wikidocs.net/3413) : Deep Learning 이론과 실습    \n",
    "[Convolutional Autoencoders for Image Noise Reduction](https://towardsdatascience.com/convolutional-autoencoders-for-image-noise-reduction-32fce9fc1763)   \n",
    "[NoiseReduction4DeepLearning](https://github.com/hashnut/NoiseReduction4DeepLearning)    \n",
    "[Unsupervised](https://ebbnflow.tistory.com/165)     \n",
    "[SegNet 1](https://github.com/say4n/pytorch-segnet/blob/master/src/model.py)    \n",
    "[SegNet 2](https://medium.com/hyunjulie/1%ED%8E%B8-semantic-segmentation-%EC%B2%AB%EA%B1%B8%EC%9D%8C-4180367ec9cb)     \n",
    "[FCN](https://medium.com/@msmapark2/fcn-%EB%85%BC%EB%AC%B8-%EB%A6%AC%EB%B7%B0-fully-convolutional-networks-for-semantic-segmentation-81f016d76204)    \n",
    "[FCN code](https://github.com/pochih/FCN-pytorch)    \n",
    "[Semantic Segmentation](https://kuklife.tistory.com/117?category=872135)   \n",
    "[more...](https://kuklife.tistory.com/121?category=872135)\n",
    "\n",
    "\n",
    "\n",
    "3. [GAN](https://dreamgonfly.github.io/blog/gan-explained/) : Generative Adversarial Network (Make a fake image)\n",
    "\n",
    "\n",
    "Keyword : Reduce noise CNN    \n",
    "Paper 1 : 영상에서 패치기반 CNN 모형을 이용한 잡음 제거    \n",
    "Paper 2 : 완전 합성곱 신경망을 활용한 드론 비행음 및 바람소리 제거 [YouTube](https://www.youtube.com/watch?v=4LYmovbp5vA)    \n",
    "\n",
    "-------------------------------------"
   ]
  },
  {
   "cell_type": "code",
   "execution_count": null,
   "metadata": {},
   "outputs": [],
   "source": [
    "import torch\n",
    "import torch.nn as nn"
   ]
  },
  {
   "cell_type": "code",
   "execution_count": null,
   "metadata": {},
   "outputs": [],
   "source": [
    "x = torch.randn(10, 3)\n",
    "x"
   ]
  },
  {
   "cell_type": "code",
   "execution_count": null,
   "metadata": {},
   "outputs": [],
   "source": [
    "y = torch.FloatTensor(10, 3).random_(2)\n",
    "y"
   ]
  },
  {
   "cell_type": "code",
   "execution_count": null,
   "metadata": {},
   "outputs": [],
   "source": [
    "class_weight = torch.FloatTensor([1.0, 2.0, 1.0])\n",
    "class_weight"
   ]
  },
  {
   "cell_type": "code",
   "execution_count": null,
   "metadata": {
    "scrolled": true
   },
   "outputs": [],
   "source": [
    "element_weight = torch.FloatTensor([1.] * 9 + [2.]).view(-1, 1)\n",
    "element_weight = element_weight.repeat(1, 3)\n",
    "element_weight"
   ]
  },
  {
   "cell_type": "code",
   "execution_count": null,
   "metadata": {},
   "outputs": [],
   "source": [
    "bce_criterion = nn.BCEWithLogitsLoss"
   ]
  },
  {
   "cell_type": "code",
   "execution_count": null,
   "metadata": {},
   "outputs": [],
   "source": [
    "x = torch.randn(10, 3)\n",
    "y = torch.FloatTensor(10, 3).random_(2)\n",
    "\n",
    "# double the loss for class 1\n",
    "class_weight = torch.FloatTensor([1.0, 2.0, 1.0])\n",
    "# double the loss for last sample\n",
    "element_weight = torch.FloatTensor([1.0]*9 + [2.0]).view(-1, 1)\n",
    "element_weight = element_weight.repeat(1, 3)\n",
    "\n",
    "bce_criterion = nn.BCEWithLogitsLoss(weight=None, reduction='none')\n",
    "multi_criterion = nn.MultiLabelSoftMarginLoss(weight=None, reduction='none')\n",
    "\n",
    "bce_criterion_class = nn.BCEWithLogitsLoss(weight=class_weight, reduction='none')\n",
    "multi_criterion_class = nn.MultiLabelSoftMarginLoss(weight=class_weight, reduction='none')\n",
    "\n",
    "bce_criterion_element = nn.BCEWithLogitsLoss(weight=element_weight, reduction='none')\n",
    "multi_criterion_element = nn.MultiLabelSoftMarginLoss(weight=element_weight, reduction='none')\n",
    "\n",
    "bce_loss = bce_criterion(x, y)\n",
    "multi_loss = multi_criterion(x, y)\n",
    "\n",
    "bce_loss_class = bce_criterion_class(x, y)\n",
    "multi_loss_class = multi_criterion_class(x, y)\n",
    "\n",
    "bce_loss_element = bce_criterion_element(x, y)\n",
    "multi_loss_element = multi_criterion_element(x, y)\n",
    "\n"
   ]
  }
 ],
 "metadata": {
  "kernelspec": {
   "display_name": "Python 3",
   "language": "python",
   "name": "python3"
  },
  "language_info": {
   "codemirror_mode": {
    "name": "ipython",
    "version": 3
   },
   "file_extension": ".py",
   "mimetype": "text/x-python",
   "name": "python",
   "nbconvert_exporter": "python",
   "pygments_lexer": "ipython3",
   "version": "3.7.7"
  }
 },
 "nbformat": 4,
 "nbformat_minor": 4
}
