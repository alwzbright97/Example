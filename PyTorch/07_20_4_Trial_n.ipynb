{
 "cells": [
  {
   "cell_type": "code",
   "execution_count": 1,
   "metadata": {},
   "outputs": [],
   "source": [
    "import torch\n",
    "import torch.nn as nn\n",
    "import visdom\n",
    "import torch.nn.init\n",
    "from torch.utils.data import Dataset, DataLoader\n",
    "\n",
    "import numpy as np\n",
    "\n",
    "device = 'cpu'"
   ]
  },
  {
   "cell_type": "code",
   "execution_count": 2,
   "metadata": {},
   "outputs": [
    {
     "name": "stderr",
     "output_type": "stream",
     "text": [
      "Setting up a new session...\n",
      "Setting up a new session...\n",
      "Setting up a new session...\n"
     ]
    },
    {
     "data": {
      "text/plain": [
       "''"
      ]
     },
     "execution_count": 2,
     "metadata": {},
     "output_type": "execute_result"
    }
   ],
   "source": [
    "vis = visdom.Visdom()\n",
    "vis2 = visdom.Visdom()\n",
    "vis3 = visdom.Visdom()\n",
    "vis.close(env='main')"
   ]
  },
  {
   "cell_type": "code",
   "execution_count": 3,
   "metadata": {},
   "outputs": [],
   "source": [
    "loss_plt = vis.line(Y=torch.Tensor(1).zero_(),opts=dict(title='loss_tracker', legend=['loss'], showlegend=True))\n",
    "accuracy_plt = vis2.line(Y=torch.Tensor(1).zero_(), opts=dict(title='accuracy', legend=['accuracy'], showlegend=True))\n",
    "test_accuracy_plt = vis3.line(Y=torch.Tensor(1).zero_(), opts=dict(title='test_accuracy', legend=['test_acc'], showlegend=True))\n"
   ]
  },
  {
   "cell_type": "code",
   "execution_count": 4,
   "metadata": {},
   "outputs": [],
   "source": [
    "def loss_tracker(plot, loss_value, num):\n",
    "    vis.line(X=num,\n",
    "             Y=loss_value,\n",
    "             win=plot,\n",
    "             update='append'\n",
    "             )\n",
    "def accuracy_tracker(plot, accurcay_value, num):\n",
    "    vis2.line(X=num,\n",
    "             Y=accurcay_value,\n",
    "             win=plot,\n",
    "             update='append'\n",
    "             )\n",
    "def test_accuracy_tracker(plot, accurcay_value, num):\n",
    "    vis3.line(X=num,\n",
    "             Y=accurcay_value,\n",
    "             win=plot,\n",
    "             update='append'\n",
    "             )"
   ]
  },
  {
   "cell_type": "code",
   "execution_count": 5,
   "metadata": {},
   "outputs": [],
   "source": [
    "learning_rate = 0.001\n",
    "training_epochs = 20\n",
    "batch_size = 64"
   ]
  },
  {
   "cell_type": "code",
   "execution_count": 6,
   "metadata": {},
   "outputs": [],
   "source": [
    "np_dataset = np.load('./data/np_dataset_split.npz')\n",
    "data = torch.from_numpy(np_dataset['data']).float()\n",
    "targets = torch.from_numpy(np_dataset['targets']).long()\n",
    "test_data = torch.from_numpy(np_dataset['test_data']).float()\n",
    "test_targets = torch.from_numpy(np_dataset['test_targets']).long()"
   ]
  },
  {
   "cell_type": "code",
   "execution_count": 7,
   "metadata": {},
   "outputs": [],
   "source": [
    "class Custom_Dataset(Dataset):\n",
    "\n",
    "    def __init__(self, data, targets):\n",
    "        self.data = data\n",
    "        self.targets = targets\n",
    "\n",
    "    def __len__(self):\n",
    "        return len(self.data)\n",
    "\n",
    "    def __getitem__(self, index):\n",
    "        X = self.data[index]\n",
    "        Y = self.targets[index]\n",
    "        return X, Y"
   ]
  },
  {
   "cell_type": "code",
   "execution_count": 8,
   "metadata": {},
   "outputs": [],
   "source": [
    "train_dataset = Custom_Dataset(data=data, targets=targets)\n",
    "test_dataset = Custom_Dataset(data=test_data, targets=test_targets)"
   ]
  },
  {
   "cell_type": "code",
   "execution_count": 9,
   "metadata": {},
   "outputs": [],
   "source": [
    "train_loader = DataLoader(dataset=train_dataset,\n",
    "                          batch_size=batch_size,\n",
    "                          shuffle=True,\n",
    "                          drop_last=True)\n",
    "test_loader = DataLoader(dataset=test_dataset,\n",
    "                         batch_size=batch_size,\n",
    "                         shuffle=True,\n",
    "                         drop_last=True)"
   ]
  },
  {
   "cell_type": "code",
   "execution_count": 10,
   "metadata": {},
   "outputs": [],
   "source": [
    "class CNN(nn.Module):\n",
    "\n",
    "    def __init__(self):\n",
    "        super(CNN, self).__init__()\n",
    "        self.layer1 = nn.Sequential(\n",
    "            nn.Conv2d(in_channels=4, out_channels=16, kernel_size=11, stride=4, padding=0),\n",
    "            nn.ReLU(),\n",
    "            nn.MaxPool2d(kernel_size=5, stride=2)\n",
    "        )\n",
    "        self.layer2 = nn.Sequential(\n",
    "            nn.Conv2d(in_channels=16, out_channels=32, kernel_size=5, stride=1, padding=2),\n",
    "            nn.ReLU(),\n",
    "            nn.MaxPool2d(kernel_size=5, stride=2)\n",
    "        )\n",
    "\n",
    "        self.fc1 = nn.Linear(in_features=32 * 13 * 21, out_features=11, bias=True)\n",
    "        self.relu = nn.ReLU()\n",
    "        \n",
    "\n",
    "        torch.nn.init.xavier_uniform_(self.fc1.weight)\n",
    "        \n",
    "\n",
    "\n",
    "    def forward(self, inputs):\n",
    "        output = self.layer1(inputs)\n",
    "        output = self.layer2(output)\n",
    "\n",
    "\n",
    "        output = output.view(output.size(0), -1)\n",
    "        output = self.fc1(output)\n",
    "        return output\n"
   ]
  },
  {
   "cell_type": "code",
   "execution_count": 11,
   "metadata": {},
   "outputs": [],
   "source": [
    "model = CNN().to(device)"
   ]
  },
  {
   "cell_type": "code",
   "execution_count": 12,
   "metadata": {},
   "outputs": [],
   "source": [
    "criterion = nn.CrossEntropyLoss().to(device)\n",
    "optimizer = torch.optim.Adam(model.parameters(), lr = learning_rate)"
   ]
  },
  {
   "cell_type": "code",
   "execution_count": 13,
   "metadata": {},
   "outputs": [
    {
     "name": "stdout",
     "output_type": "stream",
     "text": [
      "[Epoch :    1] cost = 2.82953262 accuracy = 0.13249999284744263 test_accuracy = 0.08500000089406967\n",
      "[Epoch :    2] cost = 2.38229895 accuracy = 0.1287499964237213 test_accuracy = 0.0949999988079071\n",
      "[Epoch :    3] cost = 2.35839701 accuracy = 0.15000000596046448 test_accuracy = 0.07500000298023224\n",
      "[Epoch :    4] cost = 2.31975436 accuracy = 0.16124999523162842 test_accuracy = 0.0949999988079071\n",
      "[Epoch :    5] cost = 2.27084637 accuracy = 0.2150000035762787 test_accuracy = 0.12999999523162842\n",
      "[Epoch :    6] cost = 2.2084465 accuracy = 0.2787500023841858 test_accuracy = 0.18000000715255737\n",
      "[Epoch :    7] cost = 2.12201715 accuracy = 0.29374998807907104 test_accuracy = 0.13500000536441803\n",
      "[Epoch :    8] cost = 2.05151868 accuracy = 0.30250000953674316 test_accuracy = 0.2199999988079071\n",
      "[Epoch :    9] cost = 1.96309757 accuracy = 0.32875001430511475 test_accuracy = 0.18000000715255737\n",
      "[Epoch :   10] cost = 1.89732838 accuracy = 0.38499999046325684 test_accuracy = 0.19499999284744263\n",
      "[Epoch :   11] cost = 1.80883694 accuracy = 0.4137499928474426 test_accuracy = 0.23999999463558197\n",
      "[Epoch :   12] cost = 1.75054264 accuracy = 0.4312500059604645 test_accuracy = 0.2150000035762787\n",
      "[Epoch :   13] cost = 1.6909467 accuracy = 0.4637500047683716 test_accuracy = 0.1850000023841858\n",
      "[Epoch :   14] cost = 1.61474884 accuracy = 0.44624999165534973 test_accuracy = 0.20000000298023224\n",
      "[Epoch :   15] cost = 1.55566382 accuracy = 0.5199999809265137 test_accuracy = 0.20000000298023224\n",
      "[Epoch :   16] cost = 1.45193815 accuracy = 0.5600000023841858 test_accuracy = 0.19499999284744263\n",
      "[Epoch :   17] cost = 1.39983201 accuracy = 0.5837500095367432 test_accuracy = 0.19499999284744263\n",
      "[Epoch :   18] cost = 1.312536 accuracy = 0.6662499904632568 test_accuracy = 0.1899999976158142\n",
      "[Epoch :   19] cost = 1.27205861 accuracy = 0.6324999928474426 test_accuracy = 0.2199999988079071\n",
      "[Epoch :   20] cost = 1.16915798 accuracy = 0.7225000262260437 test_accuracy = 0.17499999701976776\n",
      "[Epoch :   21] cost = 1.07052374 accuracy = 0.7762500047683716 test_accuracy = 0.20000000298023224\n",
      "[Epoch :   22] cost = 0.955620527 accuracy = 0.7574999928474426 test_accuracy = 0.1899999976158142\n",
      "[Epoch :   23] cost = 0.862753451 accuracy = 0.8374999761581421 test_accuracy = 0.17499999701976776\n",
      "[Epoch :   24] cost = 0.72397089 accuracy = 0.8799999952316284 test_accuracy = 0.1850000023841858\n",
      "[Epoch :   25] cost = 0.611964524 accuracy = 0.9100000262260437 test_accuracy = 0.17499999701976776\n",
      "[Epoch :   26] cost = 0.600228667 accuracy = 0.9125000238418579 test_accuracy = 0.16500000655651093\n",
      "[Epoch :   27] cost = 0.501504004 accuracy = 0.9300000071525574 test_accuracy = 0.15000000596046448\n",
      "[Epoch :   28] cost = 0.375693589 accuracy = 0.9524999856948853 test_accuracy = 0.1550000011920929\n",
      "[Epoch :   29] cost = 0.303500712 accuracy = 0.9825000166893005 test_accuracy = 0.17000000178813934\n",
      "[Epoch :   30] cost = 0.24013561 accuracy = 0.9800000190734863 test_accuracy = 0.13500000536441803\n",
      "[Epoch :   31] cost = 0.188773587 accuracy = 0.9937499761581421 test_accuracy = 0.1599999964237213\n",
      "[Epoch :   32] cost = 0.148458898 accuracy = 0.9925000071525574 test_accuracy = 0.17000000178813934\n",
      "[Epoch :   33] cost = 0.121836722 accuracy = 0.9975000023841858 test_accuracy = 0.1599999964237213\n",
      "[Epoch :   34] cost = 0.104773894 accuracy = 1.0 test_accuracy = 0.14499999582767487\n",
      "[Epoch :   35] cost = 0.0852934495 accuracy = 0.9975000023841858 test_accuracy = 0.16500000655651093\n",
      "[Epoch :   36] cost = 0.0691593066 accuracy = 1.0 test_accuracy = 0.1599999964237213\n",
      "[Epoch :   37] cost = 0.0546344332 accuracy = 1.0 test_accuracy = 0.17499999701976776\n",
      "[Epoch :   38] cost = 0.0443695188 accuracy = 1.0 test_accuracy = 0.1599999964237213\n",
      "[Epoch :   39] cost = 0.037701752 accuracy = 1.0 test_accuracy = 0.16500000655651093\n",
      "[Epoch :   40] cost = 0.0332570747 accuracy = 1.0 test_accuracy = 0.17000000178813934\n",
      "[Epoch :   41] cost = 0.0290299077 accuracy = 1.0 test_accuracy = 0.16500000655651093\n",
      "[Epoch :   42] cost = 0.0262115691 accuracy = 1.0 test_accuracy = 0.16500000655651093\n",
      "[Epoch :   43] cost = 0.0226474013 accuracy = 1.0 test_accuracy = 0.17000000178813934\n",
      "[Epoch :   44] cost = 0.0212045573 accuracy = 1.0 test_accuracy = 0.16500000655651093\n",
      "[Epoch :   45] cost = 0.0188233759 accuracy = 1.0 test_accuracy = 0.17000000178813934\n",
      "[Epoch :   46] cost = 0.0175811555 accuracy = 1.0 test_accuracy = 0.16500000655651093\n",
      "[Epoch :   47] cost = 0.0163178239 accuracy = 1.0 test_accuracy = 0.17000000178813934\n",
      "[Epoch :   48] cost = 0.0154325468 accuracy = 1.0 test_accuracy = 0.16500000655651093\n",
      "[Epoch :   49] cost = 0.0140025588 accuracy = 1.0 test_accuracy = 0.17000000178813934\n",
      "[Epoch :   50] cost = 0.0128423981 accuracy = 1.0 test_accuracy = 0.16500000655651093\n",
      "Learning finished\n"
     ]
    }
   ],
   "source": [
    "total_batch = len(train_loader)\n",
    "\n",
    "for epoch in range(training_epochs):\n",
    "    avg_cost = 0\n",
    "    correct = 0\n",
    "\n",
    "    for X, Y in train_loader:\n",
    "        X = X.to(device)\n",
    "        Y = Y.to(device)\n",
    "\n",
    "        optimizer.zero_grad()\n",
    "        hypothesis = model(X)\n",
    "        cost = criterion(hypothesis, Y)\n",
    "        cost.backward()\n",
    "        optimizer.step()\n",
    "\n",
    "        avg_cost += cost /total_batch\n",
    "        \n",
    "    with torch.no_grad():\n",
    "        X_val = train_dataset.data.view(len(data), 4, 257, 382).float().to(device)\n",
    "        Y_val = train_dataset.targets.to(device)\n",
    "\n",
    "        prediction = model(X_val)\n",
    "\n",
    "        correct_prediction = torch.argmax(prediction, 1) == Y_val\n",
    "        accuracy = correct_prediction.float().mean()\n",
    "        \n",
    "        X_test = test_dataset.data.view(len(test_data), 4, 257, 382).float().to(device)\n",
    "        Y_test = test_dataset.targets.to(device)\n",
    "\n",
    "        test_prediction = model(X_test)\n",
    "\n",
    "        test_correct_prediction = torch.argmax(test_prediction, 1) == Y_test\n",
    "        test_accuracy = test_correct_prediction.float().mean()\n",
    "        \n",
    "        \n",
    "    print('[Epoch : {:>4}] cost = {:>.9} accuracy = {:>3} test_accuracy = {:>3}'.format(epoch + 1, avg_cost, accuracy.item(), test_accuracy.item()))\n",
    "    loss_tracker(loss_plt, torch.Tensor([avg_cost]), torch.Tensor([epoch]))\n",
    "    accuracy_tracker(accuracy_plt, torch.Tensor([accuracy]), torch.Tensor([epoch]))\n",
    "    test_accuracy_tracker(test_accuracy_plt, torch.Tensor([test_accuracy]), torch.Tensor([epoch]))\n",
    "print('Learning finished')"
   ]
  },
  {
   "cell_type": "code",
   "execution_count": 14,
   "metadata": {},
   "outputs": [
    {
     "name": "stdout",
     "output_type": "stream",
     "text": [
      "Accuracy :  0.16500000655651093\n"
     ]
    }
   ],
   "source": [
    "with torch.no_grad():\n",
    "    X_test = test_dataset.data.view(len(test_data), 4, 257, 382).float().to(device)\n",
    "    Y_test = test_dataset.targets.to(device)\n",
    "\n",
    "    prediction = model(X_test)\n",
    "\n",
    "    correct_prediction = torch.argmax(prediction, 1) == Y_test\n",
    "    accuracy = correct_prediction.float().mean()\n",
    "    print('Accuracy : ', accuracy.item())"
   ]
  }
 ],
 "metadata": {
  "kernelspec": {
   "display_name": "Python 3",
   "language": "python",
   "name": "python3"
  },
  "language_info": {
   "codemirror_mode": {
    "name": "ipython",
    "version": 3
   },
   "file_extension": ".py",
   "mimetype": "text/x-python",
   "name": "python",
   "nbconvert_exporter": "python",
   "pygments_lexer": "ipython3",
   "version": "3.7.3"
  }
 },
 "nbformat": 4,
 "nbformat_minor": 4
}
